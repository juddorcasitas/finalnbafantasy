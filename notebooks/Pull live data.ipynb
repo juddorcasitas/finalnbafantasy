{
 "cells": [
  {
   "cell_type": "code",
   "execution_count": 1,
   "metadata": {},
   "outputs": [],
   "source": [
    "import requests"
   ]
  },
  {
   "cell_type": "code",
   "execution_count": 11,
   "metadata": {},
   "outputs": [],
   "source": [
    "headers = {'User-Agent': 'Mozilla/5.0 (X11; Linux x86_64) AppleWebKit/537.36 (KHTML, like Gecko) Chrome/74.0.3729.169 Safari/537.36'}\n",
    "Scoreurl = 'https://stats.nba.com/stats/scoreboardV2/?GameDate=10/22/2019&LeagueID=00&DayOffset=0'"
   ]
  },
  {
   "cell_type": "code",
   "execution_count": 12,
   "metadata": {},
   "outputs": [],
   "source": [
    "nba = requests.get(Scoreurl,headers=headers)"
   ]
  },
  {
   "cell_type": "code",
   "execution_count": 9,
   "metadata": {},
   "outputs": [
    {
     "ename": "NameError",
     "evalue": "name 'scoreboardV2' is not defined",
     "output_type": "error",
     "traceback": [
      "\u001b[0;31m---------------------------------------------------------------------------\u001b[0m",
      "\u001b[0;31mNameError\u001b[0m                                 Traceback (most recent call last)",
      "\u001b[0;32m<ipython-input-9-e5fa9673e7a0>\u001b[0m in \u001b[0;36m<module>\u001b[0;34m\u001b[0m\n\u001b[0;32m----> 1\u001b[0;31m \u001b[0mscoreboardV2\u001b[0m\u001b[0;34m\u001b[0m\u001b[0;34m\u001b[0m\u001b[0m\n\u001b[0m",
      "\u001b[0;31mNameError\u001b[0m: name 'scoreboardV2' is not defined"
     ]
    }
   ],
   "source": [
    "scoreboardV2"
   ]
  },
  {
   "cell_type": "code",
   "execution_count": 10,
   "metadata": {},
   "outputs": [
    {
     "data": {
      "text/plain": [
       "'{\"resource\":\"scoreboardV2\",\"parameters\":{\"GameDate\":\"10/22/2019\",\"LeagueID\":\"00\",\"DayOffset\":\"0\"},\"resultSets\":[{\"name\":\"GameHeader\",\"headers\":[\"GAME_DATE_EST\",\"GAME_SEQUENCE\",\"GAME_ID\",\"GAME_STATUS_ID\",\"GAME_STATUS_TEXT\",\"GAMECODE\",\"HOME_TEAM_ID\",\"VISITOR_TEAM_ID\",\"SEASON\",\"LIVE_PERIOD\",\"LIVE_PC_TIME\",\"NATL_TV_BROADCASTER_ABBREVIATION\",\"HOME_TV_BROADCASTER_ABBREVIATION\",\"AWAY_TV_BROADCASTER_ABBREVIATION\",\"LIVE_PERIOD_TIME_BCAST\",\"ARENA_NAME\",\"WH_STATUS\"],\"rowSet\":[[\"2019-10-22T00:00:00\",1,\"0021900001\",2,\"2nd Qtr\",\"20191022/NOPTOR\",1610612761,1610612740,\"2019\",2,\"8:46 \",\"TNT\",\"SN1\",null,\"Q2 8:46  - TNT\",\"Scotiabank Arena\",0],[\"2019-10-22T00:00:00\",2,\"0021900002\",1,\"10:30 pm ET\",\"20191022/LALLAC\",1610612746,1610612747,\"2019\",0,\"     \",\"TNT\",null,null,\"Q0       - TNT\",\"Staples Center\",0]]},{\"name\":\"LineScore\",\"headers\":[\"GAME_DATE_EST\",\"GAME_SEQUENCE\",\"GAME_ID\",\"TEAM_ID\",\"TEAM_ABBREVIATION\",\"TEAM_CITY_NAME\",\"TEAM_NAME\",\"TEAM_WINS_LOSSES\",\"PTS_QTR1\",\"PTS_QTR2\",\"PTS_QTR3\",\"PTS_QTR4\",\"PTS_OT1\",\"PTS_OT2\",\"PTS_OT3\",\"PTS_OT4\",\"PTS_OT5\",\"PTS_OT6\",\"PTS_OT7\",\"PTS_OT8\",\"PTS_OT9\",\"PTS_OT10\",\"PTS\",\"FG_PCT\",\"FT_PCT\",\"FG3_PCT\",\"AST\",\"REB\",\"TOV\"],\"rowSet\":[[\"2019-10-22T00:00:00\",1,\"0021900001\",1610612740,\"NOP\",\"New Orleans\",\"Pelicans\",\"0-0\",30,6,0,0,0,0,0,0,0,0,0,0,0,0,36,0.389,1.000,0.375,11,20,4],[\"2019-10-22T00:00:00\",1,\"0021900001\",1610612761,\"TOR\",\"Toronto\",\"Raptors\",\"0-0\",27,2,0,0,0,0,0,0,0,0,0,0,0,0,29,0.346,0.889,0.300,4,18,8],[\"2019-10-22T00:00:00\",2,\"0021900002\",1610612746,\"LAC\",\"LA\",\"Clippers\",\"0-0\",null,null,null,null,null,null,null,null,null,null,null,null,null,null,null,null,null,null,null,null,null],[\"2019-10-22T00:00:00\",2,\"0021900002\",1610612747,\"LAL\",\"Los Angeles\",\"Lakers\",\"0-0\",null,null,null,null,null,null,null,null,null,null,null,null,null,null,null,null,null,null,null,null,null]]},{\"name\":\"SeriesStandings\",\"headers\":[\"GAME_ID\",\"HOME_TEAM_ID\",\"VISITOR_TEAM_ID\",\"GAME_DATE_EST\",\"HOME_TEAM_WINS\",\"HOME_TEAM_LOSSES\",\"SERIES_LEADER\"],\"rowSet\":[[\"0021900001\",1610612761,1610612740,\"2019-10-22T00:00:00\",0,0,\"Tied\"]]},{\"name\":\"LastMeeting\",\"headers\":[\"GAME_ID\",\"LAST_GAME_ID\",\"LAST_GAME_DATE_EST\",\"LAST_GAME_HOME_TEAM_ID\",\"LAST_GAME_HOME_TEAM_CITY\",\"LAST_GAME_HOME_TEAM_NAME\",\"LAST_GAME_HOME_TEAM_ABBREVIATION\",\"LAST_GAME_HOME_TEAM_POINTS\",\"LAST_GAME_VISITOR_TEAM_ID\",\"LAST_GAME_VISITOR_TEAM_CITY\",\"LAST_GAME_VISITOR_TEAM_NAME\",\"LAST_GAME_VISITOR_TEAM_CITY1\",\"LAST_GAME_VISITOR_TEAM_POINTS\"],\"rowSet\":[[\"0021900001\",\"0021800983\",\"2019-03-08T00:00:00\",1610612761,\"Toronto\",\"Raptors\",\"TOR\",127,1610612740,\"New Orleans\",\"Pelicans\",\"NOP\",104],[\"0021900002\",\"0021801192\",\"2019-04-05T00:00:00\",1610612746,\"LA\",\"Clippers\",\"LAC\",117,1610612747,\"Los Angeles\",\"Lakers\",\"LAL\",122]]},{\"name\":\"EastConfStandingsByDay\",\"headers\":[\"TEAM_ID\",\"LEAGUE_ID\",\"SEASON_ID\",\"STANDINGSDATE\",\"CONFERENCE\",\"TEAM\",\"G\",\"W\",\"L\",\"W_PCT\",\"HOME_RECORD\",\"ROAD_RECORD\"],\"rowSet\":[[1610612737,\"00\",\"22019\",\"10/22/2019\",\"East\",\"Atlanta\",0,0,0,0.000000,\"0-0\",\"0-0\"],[1610612738,\"00\",\"22019\",\"10/22/2019\",\"East\",\"Boston\",0,0,0,0.000000,\"0-0\",\"0-0\"],[1610612751,\"00\",\"22019\",\"10/22/2019\",\"East\",\"Brooklyn\",0,0,0,0.000000,\"0-0\",\"0-0\"],[1610612766,\"00\",\"22019\",\"10/22/2019\",\"East\",\"Charlotte\",0,0,0,0.000000,\"0-0\",\"0-0\"],[1610612741,\"00\",\"22019\",\"10/22/2019\",\"East\",\"Chicago\",0,0,0,0.000000,\"0-0\",\"0-0\"],[1610612739,\"00\",\"22019\",\"10/22/2019\",\"East\",\"Cleveland\",0,0,0,0.000000,\"0-0\",\"0-0\"],[1610612765,\"00\",\"22019\",\"10/22/2019\",\"East\",\"Detroit\",0,0,0,0.000000,\"0-0\",\"0-0\"],[1610612754,\"00\",\"22019\",\"10/22/2019\",\"East\",\"Indiana\",0,0,0,0.000000,\"0-0\",\"0-0\"],[1610612748,\"00\",\"22019\",\"10/22/2019\",\"East\",\"Miami\",0,0,0,0.000000,\"0-0\",\"0-0\"],[1610612749,\"00\",\"22019\",\"10/22/2019\",\"East\",\"Milwaukee\",0,0,0,0.000000,\"0-0\",\"0-0\"],[1610612752,\"00\",\"22019\",\"10/22/2019\",\"East\",\"New York\",0,0,0,0.000000,\"0-0\",\"0-0\"],[1610612753,\"00\",\"22019\",\"10/22/2019\",\"East\",\"Orlando\",0,0,0,0.000000,\"0-0\",\"0-0\"],[1610612755,\"00\",\"22019\",\"10/22/2019\",\"East\",\"Philadelphia\",0,0,0,0.000000,\"0-0\",\"0-0\"],[1610612761,\"00\",\"22019\",\"10/22/2019\",\"East\",\"Toronto\",0,0,0,0.000000,\"0-0\",\"0-0\"],[1610612764,\"00\",\"22019\",\"10/22/2019\",\"East\",\"Washington\",0,0,0,0.000000,\"0-0\",\"0-0\"]]},{\"name\":\"WestConfStandingsByDay\",\"headers\":[\"TEAM_ID\",\"LEAGUE_ID\",\"SEASON_ID\",\"STANDINGSDATE\",\"CONFERENCE\",\"TEAM\",\"G\",\"W\",\"L\",\"W_PCT\",\"HOME_RECORD\",\"ROAD_RECORD\"],\"rowSet\":[[1610612742,\"00\",\"22019\",\"10/22/2019\",\"West\",\"Dallas\",0,0,0,0.000000,\"0-0\",\"0-0\"],[1610612743,\"00\",\"22019\",\"10/22/2019\",\"West\",\"Denver\",0,0,0,0.000000,\"0-0\",\"0-0\"],[1610612744,\"00\",\"22019\",\"10/22/2019\",\"West\",\"Golden State\",0,0,0,0.000000,\"0-0\",\"0-0\"],[1610612745,\"00\",\"22019\",\"10/22/2019\",\"West\",\"Houston\",0,0,0,0.000000,\"0-0\",\"0-0\"],[1610612747,\"00\",\"22019\",\"10/22/2019\",\"West\",\"L.A. Lakers\",0,0,0,0.000000,\"0-0\",\"0-0\"],[1610612746,\"00\",\"22019\",\"10/22/2019\",\"West\",\"LA Clippers\",0,0,0,0.000000,\"0-0\",\"0-0\"],[1610612763,\"00\",\"22019\",\"10/22/2019\",\"West\",\"Memphis\",0,0,0,0.000000,\"0-0\",\"0-0\"],[1610612750,\"00\",\"22019\",\"10/22/2019\",\"West\",\"Minnesota\",0,0,0,0.000000,\"0-0\",\"0-0\"],[1610612740,\"00\",\"22019\",\"10/22/2019\",\"West\",\"New Orleans\",0,0,0,0.000000,\"0-0\",\"0-0\"],[1610612760,\"00\",\"22019\",\"10/22/2019\",\"West\",\"Oklahoma City\",0,0,0,0.000000,\"0-0\",\"0-0\"],[1610612756,\"00\",\"22019\",\"10/22/2019\",\"West\",\"Phoenix\",0,0,0,0.000000,\"0-0\",\"0-0\"],[1610612757,\"00\",\"22019\",\"10/22/2019\",\"West\",\"Portland\",0,0,0,0.000000,\"0-0\",\"0-0\"],[1610612758,\"00\",\"22019\",\"10/22/2019\",\"West\",\"Sacramento\",0,0,0,0.000000,\"0-0\",\"0-0\"],[1610612759,\"00\",\"22019\",\"10/22/2019\",\"West\",\"San Antonio\",0,0,0,0.000000,\"0-0\",\"0-0\"],[1610612762,\"00\",\"22019\",\"10/22/2019\",\"West\",\"Utah\",0,0,0,0.000000,\"0-0\",\"0-0\"]]},{\"name\":\"Available\",\"headers\":[\"GAME_ID\",\"PT_AVAILABLE\"],\"rowSet\":[[\"0021900002\",0],[\"0021900001\",0]]},{\"name\":\"TeamLeaders\",\"headers\":[\"GAME_ID\",\"TEAM_ID\",\"TEAM_CITY\",\"TEAM_NICKNAME\",\"TEAM_ABBREVIATION\",\"PTS_PLAYER_ID\",\"PTS_PLAYER_NAME\",\"PTS\",\"REB_PLAYER_ID\",\"REB_PLAYER_NAME\",\"REB\",\"AST_PLAYER_ID\",\"AST_PLAYER_NAME\",\"AST\"],\"rowSet\":[[\"0021900001\",1610612740,\"New Orleans\",\"Pelicans\",\"NOP\",202324,\"Derrick Favors\",6,1629026,\"Kenrich Williams\",5,201950,\"Jrue Holiday\",3],[\"0021900001\",1610612761,\"Toronto\",\"Raptors\",\"TOR\",1627783,\"Pascal Siakam\",8,200768,\"Kyle Lowry\",5,1627832,\"Fred VanVleet\",2]]},{\"name\":\"TicketLinks\",\"headers\":[\"GAME_ID\",\"LEAG_TIX\"],\"rowSet\":[[\"0021900001\",\"https://www.ticketmaster.com/event/1000570DA9251FC7?brand=raptors&landing=S&artist=806034&wt.mc_id=NBA_TEAM_TOR_SINGLE_GAME_TIX&utm_source=NBA.com&utm_medium=client&utm_campaign=NBA_TEAM_TOR&utm_content=SINGLE_GAME_TIX\"],[\"0021900002\",null]]},{\"name\":\"WinProbability\",\"headers\":[],\"rowSet\":[]}]}'"
      ]
     },
     "execution_count": 10,
     "metadata": {},
     "output_type": "execute_result"
    }
   ],
   "source": [
    "nba.text"
   ]
  },
  {
   "cell_type": "code",
   "execution_count": 15,
   "metadata": {},
   "outputs": [],
   "source": [
    "gameId = \"0021900001\""
   ]
  },
  {
   "cell_type": "code",
   "execution_count": 28,
   "metadata": {},
   "outputs": [],
   "source": [
    "playbyplayurl = 'https://stats.nba.com/stats/playbyplayv2?GameID={}&StartPeriod=0&EndPeriod=0'.format(gameId)"
   ]
  },
  {
   "cell_type": "code",
   "execution_count": 29,
   "metadata": {},
   "outputs": [],
   "source": [
    "nbaGame = requests.get(playbyplayurl,headers=headers)"
   ]
  },
  {
   "cell_type": "code",
   "execution_count": 30,
   "metadata": {},
   "outputs": [
    {
     "data": {
      "text/plain": [
       "{'resource': 'playbyplay',\n",
       " 'parameters': {'GameID': '0021900001', 'StartPeriod': 0, 'EndPeriod': 0},\n",
       " 'resultSets': [{'name': 'PlayByPlay',\n",
       "   'headers': ['GAME_ID',\n",
       "    'EVENTNUM',\n",
       "    'EVENTMSGTYPE',\n",
       "    'EVENTMSGACTIONTYPE',\n",
       "    'PERIOD',\n",
       "    'WCTIMESTRING',\n",
       "    'PCTIMESTRING',\n",
       "    'HOMEDESCRIPTION',\n",
       "    'NEUTRALDESCRIPTION',\n",
       "    'VISITORDESCRIPTION',\n",
       "    'SCORE',\n",
       "    'SCOREMARGIN',\n",
       "    'PERSON1TYPE',\n",
       "    'PLAYER1_ID',\n",
       "    'PLAYER1_NAME',\n",
       "    'PLAYER1_TEAM_ID',\n",
       "    'PLAYER1_TEAM_CITY',\n",
       "    'PLAYER1_TEAM_NICKNAME',\n",
       "    'PLAYER1_TEAM_ABBREVIATION',\n",
       "    'PERSON2TYPE',\n",
       "    'PLAYER2_ID',\n",
       "    'PLAYER2_NAME',\n",
       "    'PLAYER2_TEAM_ID',\n",
       "    'PLAYER2_TEAM_CITY',\n",
       "    'PLAYER2_TEAM_NICKNAME',\n",
       "    'PLAYER2_TEAM_ABBREVIATION',\n",
       "    'PERSON3TYPE',\n",
       "    'PLAYER3_ID',\n",
       "    'PLAYER3_NAME',\n",
       "    'PLAYER3_TEAM_ID',\n",
       "    'PLAYER3_TEAM_CITY',\n",
       "    'PLAYER3_TEAM_NICKNAME',\n",
       "    'PLAYER3_TEAM_ABBREVIATION',\n",
       "    'VIDEO_AVAILABLE_FLAG'],\n",
       "   'rowSet': []},\n",
       "  {'name': 'AvailableVideo',\n",
       "   'headers': ['VIDEO_AVAILABLE_FLAG'],\n",
       "   'rowSet': [[0]]}]}"
      ]
     },
     "execution_count": 30,
     "metadata": {},
     "output_type": "execute_result"
    }
   ],
   "source": [
    "nbaGame.json()"
   ]
  },
  {
   "cell_type": "code",
   "execution_count": null,
   "metadata": {},
   "outputs": [],
   "source": []
  }
 ],
 "metadata": {
  "kernelspec": {
   "display_name": "Python 3",
   "language": "python",
   "name": "python3"
  },
  "language_info": {
   "codemirror_mode": {
    "name": "ipython",
    "version": 3
   },
   "file_extension": ".py",
   "mimetype": "text/x-python",
   "name": "python",
   "nbconvert_exporter": "python",
   "pygments_lexer": "ipython3",
   "version": "3.7.3"
  }
 },
 "nbformat": 4,
 "nbformat_minor": 2
}
